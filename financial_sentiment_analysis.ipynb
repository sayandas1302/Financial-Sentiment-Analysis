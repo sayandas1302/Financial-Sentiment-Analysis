{
  "nbformat": 4,
  "nbformat_minor": 0,
  "metadata": {
    "colab": {
      "provenance": [],
      "gpuType": "T4"
    },
    "kernelspec": {
      "name": "python3",
      "display_name": "Python 3"
    },
    "language_info": {
      "name": "python"
    },
    "accelerator": "GPU"
  },
  "cells": [
    {
      "cell_type": "code",
      "execution_count": 71,
      "metadata": {
        "id": "q5Bfi4oxGdSc"
      },
      "outputs": [],
      "source": [
        "import pandas as pd\n",
        "import numpy as np\n",
        "import matplotlib.pyplot as plt\n",
        "import seaborn as sns\n",
        "import spacy\n",
        "import string\n",
        "from imblearn.over_sampling import RandomOverSampler\n",
        "\n",
        "import tensorflow as tf\n",
        "from tensorflow import keras\n",
        "from keras.preprocessing.text import Tokenizer\n",
        "from keras.utils import pad_sequences\n",
        "from keras.models import Sequential\n",
        "from keras.layers import Dense, Dropout, Embedding, Flatten, SimpleRNN\n",
        "from keras.callbacks import EarlyStopping\n",
        "\n",
        "from sklearn.metrics import classification_report, confusion_matrix"
      ]
    },
    {
      "cell_type": "code",
      "source": [
        "df = pd.read_csv(\"/content/data.csv\")\n",
        "df.head()"
      ],
      "metadata": {
        "colab": {
          "base_uri": "https://localhost:8080/",
          "height": 206
        },
        "id": "JXtTvp8bGvHF",
        "outputId": "b07492c2-4413-44da-bebc-d13625cf2861"
      },
      "execution_count": 3,
      "outputs": [
        {
          "output_type": "execute_result",
          "data": {
            "text/plain": [
              "                                            Sentence Sentiment\n",
              "0  The GeoSolutions technology will leverage Bene...  positive\n",
              "1  $ESI on lows, down $1.50 to $2.50 BK a real po...  negative\n",
              "2  For the last quarter of 2010 , Componenta 's n...  positive\n",
              "3  According to the Finnish-Russian Chamber of Co...   neutral\n",
              "4  The Swedish buyout firm has sold its remaining...   neutral"
            ],
            "text/html": [
              "\n",
              "  <div id=\"df-d0b55701-edb6-4a29-8c63-1b94af79af99\" class=\"colab-df-container\">\n",
              "    <div>\n",
              "<style scoped>\n",
              "    .dataframe tbody tr th:only-of-type {\n",
              "        vertical-align: middle;\n",
              "    }\n",
              "\n",
              "    .dataframe tbody tr th {\n",
              "        vertical-align: top;\n",
              "    }\n",
              "\n",
              "    .dataframe thead th {\n",
              "        text-align: right;\n",
              "    }\n",
              "</style>\n",
              "<table border=\"1\" class=\"dataframe\">\n",
              "  <thead>\n",
              "    <tr style=\"text-align: right;\">\n",
              "      <th></th>\n",
              "      <th>Sentence</th>\n",
              "      <th>Sentiment</th>\n",
              "    </tr>\n",
              "  </thead>\n",
              "  <tbody>\n",
              "    <tr>\n",
              "      <th>0</th>\n",
              "      <td>The GeoSolutions technology will leverage Bene...</td>\n",
              "      <td>positive</td>\n",
              "    </tr>\n",
              "    <tr>\n",
              "      <th>1</th>\n",
              "      <td>$ESI on lows, down $1.50 to $2.50 BK a real po...</td>\n",
              "      <td>negative</td>\n",
              "    </tr>\n",
              "    <tr>\n",
              "      <th>2</th>\n",
              "      <td>For the last quarter of 2010 , Componenta 's n...</td>\n",
              "      <td>positive</td>\n",
              "    </tr>\n",
              "    <tr>\n",
              "      <th>3</th>\n",
              "      <td>According to the Finnish-Russian Chamber of Co...</td>\n",
              "      <td>neutral</td>\n",
              "    </tr>\n",
              "    <tr>\n",
              "      <th>4</th>\n",
              "      <td>The Swedish buyout firm has sold its remaining...</td>\n",
              "      <td>neutral</td>\n",
              "    </tr>\n",
              "  </tbody>\n",
              "</table>\n",
              "</div>\n",
              "    <div class=\"colab-df-buttons\">\n",
              "\n",
              "  <div class=\"colab-df-container\">\n",
              "    <button class=\"colab-df-convert\" onclick=\"convertToInteractive('df-d0b55701-edb6-4a29-8c63-1b94af79af99')\"\n",
              "            title=\"Convert this dataframe to an interactive table.\"\n",
              "            style=\"display:none;\">\n",
              "\n",
              "  <svg xmlns=\"http://www.w3.org/2000/svg\" height=\"24px\" viewBox=\"0 -960 960 960\">\n",
              "    <path d=\"M120-120v-720h720v720H120Zm60-500h600v-160H180v160Zm220 220h160v-160H400v160Zm0 220h160v-160H400v160ZM180-400h160v-160H180v160Zm440 0h160v-160H620v160ZM180-180h160v-160H180v160Zm440 0h160v-160H620v160Z\"/>\n",
              "  </svg>\n",
              "    </button>\n",
              "\n",
              "  <style>\n",
              "    .colab-df-container {\n",
              "      display:flex;\n",
              "      gap: 12px;\n",
              "    }\n",
              "\n",
              "    .colab-df-convert {\n",
              "      background-color: #E8F0FE;\n",
              "      border: none;\n",
              "      border-radius: 50%;\n",
              "      cursor: pointer;\n",
              "      display: none;\n",
              "      fill: #1967D2;\n",
              "      height: 32px;\n",
              "      padding: 0 0 0 0;\n",
              "      width: 32px;\n",
              "    }\n",
              "\n",
              "    .colab-df-convert:hover {\n",
              "      background-color: #E2EBFA;\n",
              "      box-shadow: 0px 1px 2px rgba(60, 64, 67, 0.3), 0px 1px 3px 1px rgba(60, 64, 67, 0.15);\n",
              "      fill: #174EA6;\n",
              "    }\n",
              "\n",
              "    .colab-df-buttons div {\n",
              "      margin-bottom: 4px;\n",
              "    }\n",
              "\n",
              "    [theme=dark] .colab-df-convert {\n",
              "      background-color: #3B4455;\n",
              "      fill: #D2E3FC;\n",
              "    }\n",
              "\n",
              "    [theme=dark] .colab-df-convert:hover {\n",
              "      background-color: #434B5C;\n",
              "      box-shadow: 0px 1px 3px 1px rgba(0, 0, 0, 0.15);\n",
              "      filter: drop-shadow(0px 1px 2px rgba(0, 0, 0, 0.3));\n",
              "      fill: #FFFFFF;\n",
              "    }\n",
              "  </style>\n",
              "\n",
              "    <script>\n",
              "      const buttonEl =\n",
              "        document.querySelector('#df-d0b55701-edb6-4a29-8c63-1b94af79af99 button.colab-df-convert');\n",
              "      buttonEl.style.display =\n",
              "        google.colab.kernel.accessAllowed ? 'block' : 'none';\n",
              "\n",
              "      async function convertToInteractive(key) {\n",
              "        const element = document.querySelector('#df-d0b55701-edb6-4a29-8c63-1b94af79af99');\n",
              "        const dataTable =\n",
              "          await google.colab.kernel.invokeFunction('convertToInteractive',\n",
              "                                                    [key], {});\n",
              "        if (!dataTable) return;\n",
              "\n",
              "        const docLinkHtml = 'Like what you see? Visit the ' +\n",
              "          '<a target=\"_blank\" href=https://colab.research.google.com/notebooks/data_table.ipynb>data table notebook</a>'\n",
              "          + ' to learn more about interactive tables.';\n",
              "        element.innerHTML = '';\n",
              "        dataTable['output_type'] = 'display_data';\n",
              "        await google.colab.output.renderOutput(dataTable, element);\n",
              "        const docLink = document.createElement('div');\n",
              "        docLink.innerHTML = docLinkHtml;\n",
              "        element.appendChild(docLink);\n",
              "      }\n",
              "    </script>\n",
              "  </div>\n",
              "\n",
              "\n",
              "<div id=\"df-3402268e-265f-4bb2-bb30-e60fa166173d\">\n",
              "  <button class=\"colab-df-quickchart\" onclick=\"quickchart('df-3402268e-265f-4bb2-bb30-e60fa166173d')\"\n",
              "            title=\"Suggest charts\"\n",
              "            style=\"display:none;\">\n",
              "\n",
              "<svg xmlns=\"http://www.w3.org/2000/svg\" height=\"24px\"viewBox=\"0 0 24 24\"\n",
              "     width=\"24px\">\n",
              "    <g>\n",
              "        <path d=\"M19 3H5c-1.1 0-2 .9-2 2v14c0 1.1.9 2 2 2h14c1.1 0 2-.9 2-2V5c0-1.1-.9-2-2-2zM9 17H7v-7h2v7zm4 0h-2V7h2v10zm4 0h-2v-4h2v4z\"/>\n",
              "    </g>\n",
              "</svg>\n",
              "  </button>\n",
              "\n",
              "<style>\n",
              "  .colab-df-quickchart {\n",
              "      --bg-color: #E8F0FE;\n",
              "      --fill-color: #1967D2;\n",
              "      --hover-bg-color: #E2EBFA;\n",
              "      --hover-fill-color: #174EA6;\n",
              "      --disabled-fill-color: #AAA;\n",
              "      --disabled-bg-color: #DDD;\n",
              "  }\n",
              "\n",
              "  [theme=dark] .colab-df-quickchart {\n",
              "      --bg-color: #3B4455;\n",
              "      --fill-color: #D2E3FC;\n",
              "      --hover-bg-color: #434B5C;\n",
              "      --hover-fill-color: #FFFFFF;\n",
              "      --disabled-bg-color: #3B4455;\n",
              "      --disabled-fill-color: #666;\n",
              "  }\n",
              "\n",
              "  .colab-df-quickchart {\n",
              "    background-color: var(--bg-color);\n",
              "    border: none;\n",
              "    border-radius: 50%;\n",
              "    cursor: pointer;\n",
              "    display: none;\n",
              "    fill: var(--fill-color);\n",
              "    height: 32px;\n",
              "    padding: 0;\n",
              "    width: 32px;\n",
              "  }\n",
              "\n",
              "  .colab-df-quickchart:hover {\n",
              "    background-color: var(--hover-bg-color);\n",
              "    box-shadow: 0 1px 2px rgba(60, 64, 67, 0.3), 0 1px 3px 1px rgba(60, 64, 67, 0.15);\n",
              "    fill: var(--button-hover-fill-color);\n",
              "  }\n",
              "\n",
              "  .colab-df-quickchart-complete:disabled,\n",
              "  .colab-df-quickchart-complete:disabled:hover {\n",
              "    background-color: var(--disabled-bg-color);\n",
              "    fill: var(--disabled-fill-color);\n",
              "    box-shadow: none;\n",
              "  }\n",
              "\n",
              "  .colab-df-spinner {\n",
              "    border: 2px solid var(--fill-color);\n",
              "    border-color: transparent;\n",
              "    border-bottom-color: var(--fill-color);\n",
              "    animation:\n",
              "      spin 1s steps(1) infinite;\n",
              "  }\n",
              "\n",
              "  @keyframes spin {\n",
              "    0% {\n",
              "      border-color: transparent;\n",
              "      border-bottom-color: var(--fill-color);\n",
              "      border-left-color: var(--fill-color);\n",
              "    }\n",
              "    20% {\n",
              "      border-color: transparent;\n",
              "      border-left-color: var(--fill-color);\n",
              "      border-top-color: var(--fill-color);\n",
              "    }\n",
              "    30% {\n",
              "      border-color: transparent;\n",
              "      border-left-color: var(--fill-color);\n",
              "      border-top-color: var(--fill-color);\n",
              "      border-right-color: var(--fill-color);\n",
              "    }\n",
              "    40% {\n",
              "      border-color: transparent;\n",
              "      border-right-color: var(--fill-color);\n",
              "      border-top-color: var(--fill-color);\n",
              "    }\n",
              "    60% {\n",
              "      border-color: transparent;\n",
              "      border-right-color: var(--fill-color);\n",
              "    }\n",
              "    80% {\n",
              "      border-color: transparent;\n",
              "      border-right-color: var(--fill-color);\n",
              "      border-bottom-color: var(--fill-color);\n",
              "    }\n",
              "    90% {\n",
              "      border-color: transparent;\n",
              "      border-bottom-color: var(--fill-color);\n",
              "    }\n",
              "  }\n",
              "</style>\n",
              "\n",
              "  <script>\n",
              "    async function quickchart(key) {\n",
              "      const quickchartButtonEl =\n",
              "        document.querySelector('#' + key + ' button');\n",
              "      quickchartButtonEl.disabled = true;  // To prevent multiple clicks.\n",
              "      quickchartButtonEl.classList.add('colab-df-spinner');\n",
              "      try {\n",
              "        const charts = await google.colab.kernel.invokeFunction(\n",
              "            'suggestCharts', [key], {});\n",
              "      } catch (error) {\n",
              "        console.error('Error during call to suggestCharts:', error);\n",
              "      }\n",
              "      quickchartButtonEl.classList.remove('colab-df-spinner');\n",
              "      quickchartButtonEl.classList.add('colab-df-quickchart-complete');\n",
              "    }\n",
              "    (() => {\n",
              "      let quickchartButtonEl =\n",
              "        document.querySelector('#df-3402268e-265f-4bb2-bb30-e60fa166173d button');\n",
              "      quickchartButtonEl.style.display =\n",
              "        google.colab.kernel.accessAllowed ? 'block' : 'none';\n",
              "    })();\n",
              "  </script>\n",
              "</div>\n",
              "\n",
              "    </div>\n",
              "  </div>\n"
            ],
            "application/vnd.google.colaboratory.intrinsic+json": {
              "type": "dataframe",
              "variable_name": "df",
              "summary": "{\n  \"name\": \"df\",\n  \"rows\": 5842,\n  \"fields\": [\n    {\n      \"column\": \"Sentence\",\n      \"properties\": {\n        \"dtype\": \"string\",\n        \"num_unique_values\": 5322,\n        \"samples\": [\n          \"It is now the leading private road ambulance service company in Finland .\",\n          \"Finnish silicon wafers manufacturer Okmetic Oyj said it swung to a net profit of 4.9 mln euro $ 6.3 mln in the first nine months of 2006 from a net loss of 1.8 mln euro $ 2.3 mln a year earlier .\",\n          \"$GILD  is expanding its research facilities...keeping up with the pace of innovation  https://t.co/uOE7FJ4LOP\"\n        ],\n        \"semantic_type\": \"\",\n        \"description\": \"\"\n      }\n    },\n    {\n      \"column\": \"Sentiment\",\n      \"properties\": {\n        \"dtype\": \"category\",\n        \"num_unique_values\": 3,\n        \"samples\": [\n          \"positive\",\n          \"negative\",\n          \"neutral\"\n        ],\n        \"semantic_type\": \"\",\n        \"description\": \"\"\n      }\n    }\n  ]\n}"
            }
          },
          "metadata": {},
          "execution_count": 3
        }
      ]
    },
    {
      "cell_type": "code",
      "source": [
        "df.shape"
      ],
      "metadata": {
        "colab": {
          "base_uri": "https://localhost:8080/",
          "height": 0
        },
        "id": "98QmtYGJG-mk",
        "outputId": "de02fd9a-e289-4f57-be46-dc3f28b6c237"
      },
      "execution_count": 4,
      "outputs": [
        {
          "output_type": "execute_result",
          "data": {
            "text/plain": [
              "(5842, 2)"
            ]
          },
          "metadata": {},
          "execution_count": 4
        }
      ]
    },
    {
      "cell_type": "markdown",
      "source": [
        "### Text Processing"
      ],
      "metadata": {
        "id": "79yoz5wHHnX8"
      }
    },
    {
      "cell_type": "code",
      "source": [
        "nlp_eng = spacy.load(\"en_core_web_sm\")"
      ],
      "metadata": {
        "id": "qGw1tdxzHnGt"
      },
      "execution_count": 5,
      "outputs": []
    },
    {
      "cell_type": "code",
      "source": [
        "sent = df.iloc[0,0]\n",
        "sent"
      ],
      "metadata": {
        "colab": {
          "base_uri": "https://localhost:8080/",
          "height": 55
        },
        "id": "iqsP_4hwH7ha",
        "outputId": "1b78b878-9d18-4649-d781-017cc288bb9e"
      },
      "execution_count": 6,
      "outputs": [
        {
          "output_type": "execute_result",
          "data": {
            "text/plain": [
              "\"The GeoSolutions technology will leverage Benefon 's GPS solutions by providing Location Based Search Technology , a Communities Platform , location relevant multimedia content and a new and powerful commercial model .\""
            ],
            "application/vnd.google.colaboratory.intrinsic+json": {
              "type": "string"
            }
          },
          "metadata": {},
          "execution_count": 6
        }
      ]
    },
    {
      "cell_type": "code",
      "source": [
        "def text_process(text):\n",
        "  remove_punc = \"\".join([x for x in text if x not in string.punctuation])\n",
        "  doc = nlp_eng(remove_punc)\n",
        "  lower_case = \" \".join([x.text.lower() for x in doc if x.text!=\" \"])\n",
        "  doc = nlp_eng(lower_case)\n",
        "  remove_stp_wrd = \" \".join([x.text for x in doc if not x.is_stop])\n",
        "  doc = nlp_eng(remove_stp_wrd)\n",
        "  lemma = \" \".join([x.lemma_ for x in doc])\n",
        "  return(lemma)"
      ],
      "metadata": {
        "id": "vleE0aTtHEhN"
      },
      "execution_count": 7,
      "outputs": []
    },
    {
      "cell_type": "code",
      "source": [
        "df[\"Sentence\"] = df[\"Sentence\"].map(lambda x: text_process(x))"
      ],
      "metadata": {
        "id": "IYtUqwvqIjje"
      },
      "execution_count": 8,
      "outputs": []
    },
    {
      "cell_type": "code",
      "source": [
        "sentiment_count = df[\"Sentiment\"].value_counts()\n",
        "plt.style.use(\"bmh\")\n",
        "plt.figure(figsize=(5,5))\n",
        "sentiment_count.plot.bar()\n",
        "plt.title(\"Imbalance\")\n",
        "plt.xlabel(\"Category\")\n",
        "plt.ylabel(\"Counts\")"
      ],
      "metadata": {
        "colab": {
          "base_uri": "https://localhost:8080/",
          "height": 552
        },
        "id": "XFwqoDP7UrCe",
        "outputId": "06373fb5-fa30-4318-c5f7-467435ad21a4"
      },
      "execution_count": 9,
      "outputs": [
        {
          "output_type": "execute_result",
          "data": {
            "text/plain": [
              "Text(0, 0.5, 'Counts')"
            ]
          },
          "metadata": {},
          "execution_count": 9
        },
        {
          "output_type": "display_data",
          "data": {
            "text/plain": [
              "<Figure size 500x500 with 1 Axes>"
            ],
            "image/png": "[encoded data removed]"
          },
          "metadata": {}
        }
      ]
    },
    {
      "cell_type": "code",
      "source": [
        "max_category = sentiment_count.idxmax()\n",
        "target_frequency = sentiment_count[max_category]\n",
        "print(f\"{max_category}: {target_frequency}\")"
      ],
      "metadata": {
        "colab": {
          "base_uri": "https://localhost:8080/",
          "height": 0
        },
        "id": "QxQgBqkmRPi1",
        "outputId": "8a3a304e-62b9-4375-edeb-9cb1eaa9aa6d"
      },
      "execution_count": 10,
      "outputs": [
        {
          "output_type": "stream",
          "name": "stdout",
          "text": [
            "neutral: 3130\n"
          ]
        }
      ]
    },
    {
      "cell_type": "code",
      "source": [
        "strategy = {}\n",
        "for x in sentiment_count.index:\n",
        "  strategy[x] = target_frequency\n",
        "strategy"
      ],
      "metadata": {
        "colab": {
          "base_uri": "https://localhost:8080/",
          "height": 0
        },
        "id": "ncjxRu7pVNgE",
        "outputId": "a0d477bb-a485-4ff2-fa2c-1b0fea0ff5df"
      },
      "execution_count": 11,
      "outputs": [
        {
          "output_type": "execute_result",
          "data": {
            "text/plain": [
              "{'neutral': 3130, 'positive': 3130, 'negative': 3130}"
            ]
          },
          "metadata": {},
          "execution_count": 11
        }
      ]
    },
    {
      "cell_type": "code",
      "source": [
        "over_sampler = RandomOverSampler(sampling_strategy=strategy)\n",
        "X = df[\"Sentence\"].values.reshape((-1,1))\n",
        "y = df[\"Sentiment\"]"
      ],
      "metadata": {
        "id": "BUwb3UI0WGW9"
      },
      "execution_count": 12,
      "outputs": []
    },
    {
      "cell_type": "code",
      "source": [
        "X_resamp, y_resamp = over_sampler.fit_resample(X, y)"
      ],
      "metadata": {
        "id": "exgEWed9WXr7"
      },
      "execution_count": 13,
      "outputs": []
    },
    {
      "cell_type": "code",
      "source": [
        "y_resamp.value_counts()"
      ],
      "metadata": {
        "colab": {
          "base_uri": "https://localhost:8080/",
          "height": 0
        },
        "id": "kPJCnBFhW0v7",
        "outputId": "81bf103f-9322-413a-953c-2bdddca185de"
      },
      "execution_count": 14,
      "outputs": [
        {
          "output_type": "execute_result",
          "data": {
            "text/plain": [
              "positive    3130\n",
              "negative    3130\n",
              "neutral     3130\n",
              "Name: Sentiment, dtype: int64"
            ]
          },
          "metadata": {},
          "execution_count": 14
        }
      ]
    },
    {
      "cell_type": "code",
      "source": [
        "tokenizer = Tokenizer()\n",
        "tokenizer.fit_on_texts(X_resamp.reshape((-1,)))"
      ],
      "metadata": {
        "id": "YIquDuGejso0"
      },
      "execution_count": 15,
      "outputs": []
    },
    {
      "cell_type": "code",
      "source": [
        "vocab_size = len(tokenizer.word_index)\n",
        "vocab_size"
      ],
      "metadata": {
        "colab": {
          "base_uri": "https://localhost:8080/",
          "height": 0
        },
        "id": "-q8ah7SHkawI",
        "outputId": "495cae6c-14ce-4b1a-c7f9-69cdea8463d6"
      },
      "execution_count": 20,
      "outputs": [
        {
          "output_type": "execute_result",
          "data": {
            "text/plain": [
              "10896"
            ]
          },
          "metadata": {},
          "execution_count": 20
        }
      ]
    },
    {
      "cell_type": "code",
      "source": [
        "sequences = tokenizer.texts_to_sequences(X_resamp.reshape((-1,)))\n",
        "sequences[0]"
      ],
      "metadata": {
        "colab": {
          "base_uri": "https://localhost:8080/",
          "height": 0
        },
        "id": "YPX74t1lkr39",
        "outputId": "e58371bc-100b-42f2-9732-70cc23f9896d"
      },
      "execution_count": 17,
      "outputs": [
        {
          "output_type": "execute_result",
          "data": {
            "text/plain": [
              "[6561,\n",
              " 79,\n",
              " 2809,\n",
              " 1794,\n",
              " 3,\n",
              " 2187,\n",
              " 55,\n",
              " 132,\n",
              " 803,\n",
              " 124,\n",
              " 2188,\n",
              " 79,\n",
              " 1965,\n",
              " 943,\n",
              " 803,\n",
              " 2189,\n",
              " 3929,\n",
              " 723,\n",
              " 30,\n",
              " 4951,\n",
              " 540,\n",
              " 172]"
            ]
          },
          "metadata": {},
          "execution_count": 17
        }
      ]
    },
    {
      "cell_type": "code",
      "source": [
        "sequences = pad_sequences(sequences, padding=\"post\")\n",
        "sequences[:5]"
      ],
      "metadata": {
        "colab": {
          "base_uri": "https://localhost:8080/",
          "height": 0
        },
        "id": "4rgH2Hs-lFnN",
        "outputId": "88149ebf-c0a6-41c5-9565-9ab6aa118370"
      },
      "execution_count": 18,
      "outputs": [
        {
          "output_type": "execute_result",
          "data": {
            "text/plain": [
              "array([[6561,   79, 2809, 1794,    3, 2187,   55,  132,  803,  124, 2188,\n",
              "          79, 1965,  943,  803, 2189, 3929,  723,   30, 4951,  540,  172,\n",
              "           0,    0,    0,    0,    0,    0,    0,    0,    0,    0,    0,\n",
              "           0,    0,    0,    0,    0,    0,    0,    0,    0,    0,    0,\n",
              "           0,    0],\n",
              "       [4952,   47,  749, 1372, 3930,  429, 3305,    0,    0,    0,    0,\n",
              "           0,    0,    0,    0,    0,    0,    0,    0,    0,    0,    0,\n",
              "           0,    0,    0,    0,    0,    0,    0,    0,    0,    0,    0,\n",
              "           0,    0,    0,    0,    0,    0,    0,    0,    0,    0,    0,\n",
              "           0,    0],\n",
              "       [  17,   29,  561,    3,    8,    6,  541, 3931,   12, 4953,   12,\n",
              "          13,   14,   48,  420, 4954,  111,    5,  111,   20, 1156,   12,\n",
              "           0,    0,    0,    0,    0,    0,    0,    0,    0,    0,    0,\n",
              "           0,    0,    0,    0,    0,    0,    0,    0,    0,    0,    0,\n",
              "           0,    0],\n",
              "       [  81, 6562, 4955, 1966,  338,  125,    4,   24,   25,  158,    0,\n",
              "           0,    0,    0,    0,    0,    0,    0,    0,    0,    0,    0,\n",
              "           0,    0,    0,    0,    0,    0,    0,    0,    0,    0,    0,\n",
              "           0,    0,    0,    0,    0,    0,    0,    0,    0,    0,    0,\n",
              "           0,    0],\n",
              "       [ 347, 1440,  421,   57,  186, 3306,   53,  215, 6563,   80,  290,\n",
              "           4,  501,   24,    0,    0,    0,    0,    0,    0,    0,    0,\n",
              "           0,    0,    0,    0,    0,    0,    0,    0,    0,    0,    0,\n",
              "           0,    0,    0,    0,    0,    0,    0,    0,    0,    0,    0,\n",
              "           0,    0]], dtype=int32)"
            ]
          },
          "metadata": {},
          "execution_count": 18
        }
      ]
    },
    {
      "cell_type": "code",
      "source": [
        "input_length = sequences.shape[1]\n",
        "input_length"
      ],
      "metadata": {
        "colab": {
          "base_uri": "https://localhost:8080/",
          "height": 0
        },
        "id": "qdqt2qIHllGy",
        "outputId": "d1ef4327-4326-48c5-ca96-812d20b7cc83"
      },
      "execution_count": 21,
      "outputs": [
        {
          "output_type": "execute_result",
          "data": {
            "text/plain": [
              "46"
            ]
          },
          "metadata": {},
          "execution_count": 21
        }
      ]
    },
    {
      "cell_type": "code",
      "source": [
        "labels = y_resamp.map({\n",
        "    \"negative\": 0,\n",
        "    \"neutral\": 1,\n",
        "    \"positive\": 2\n",
        "})\n",
        "labels"
      ],
      "metadata": {
        "colab": {
          "base_uri": "https://localhost:8080/",
          "height": 0
        },
        "id": "o1sJFQMTHLMa",
        "outputId": "0432b92e-7e84-411a-b8c2-50c4c1ce30c7"
      },
      "execution_count": 31,
      "outputs": [
        {
          "output_type": "execute_result",
          "data": {
            "text/plain": [
              "0       2\n",
              "1       0\n",
              "2       2\n",
              "3       1\n",
              "4       1\n",
              "       ..\n",
              "9385    2\n",
              "9386    2\n",
              "9387    2\n",
              "9388    2\n",
              "9389    2\n",
              "Name: Sentiment, Length: 9390, dtype: int64"
            ]
          },
          "metadata": {},
          "execution_count": 31
        }
      ]
    },
    {
      "cell_type": "code",
      "source": [
        "rnn_model = Sequential([\n",
        "    Embedding(input_dim=vocab_size, output_dim=10, input_length=input_length),\n",
        "    SimpleRNN(64, return_sequences=False),\n",
        "    Dense(128, activation=\"relu\"),\n",
        "    Dropout(0.2),\n",
        "    Dense(64, activation=\"relu\"),\n",
        "    Dropout(0.2),\n",
        "    Dense(32, activation=\"relu\"),\n",
        "    Dropout(0.2),\n",
        "    Dense(3, activation=\"softmax\")\n",
        "])\n",
        "\n",
        "rnn_model.summary()"
      ],
      "metadata": {
        "colab": {
          "base_uri": "https://localhost:8080/",
          "height": 0
        },
        "id": "A66oqThLlpz0",
        "outputId": "1d8c957d-2582-4748-9d24-d98e482f88f7"
      },
      "execution_count": 67,
      "outputs": [
        {
          "output_type": "stream",
          "name": "stdout",
          "text": [
            "Model: \"sequential_6\"\n",
            "_________________________________________________________________\n",
            " Layer (type)                Output Shape              Param #   \n",
            "=================================================================\n",
            " embedding_7 (Embedding)     (None, 46, 10)            108960    \n",
            "                                                                 \n",
            " simple_rnn_10 (SimpleRNN)   (None, 64)                4800      \n",
            "                                                                 \n",
            " dense_19 (Dense)            (None, 128)               8320      \n",
            "                                                                 \n",
            " dropout_5 (Dropout)         (None, 128)               0         \n",
            "                                                                 \n",
            " dense_20 (Dense)            (None, 64)                8256      \n",
            "                                                                 \n",
            " dropout_6 (Dropout)         (None, 64)                0         \n",
            "                                                                 \n",
            " dense_21 (Dense)            (None, 32)                2080      \n",
            "                                                                 \n",
            " dropout_7 (Dropout)         (None, 32)                0         \n",
            "                                                                 \n",
            " dense_22 (Dense)            (None, 3)                 99        \n",
            "                                                                 \n",
            "=================================================================\n",
            "Total params: 132515 (517.64 KB)\n",
            "Trainable params: 132515 (517.64 KB)\n",
            "Non-trainable params: 0 (0.00 Byte)\n",
            "_________________________________________________________________\n"
          ]
        }
      ]
    },
    {
      "cell_type": "code",
      "source": [
        "early_stopping = EarlyStopping(monitor='val_accuracy',\n",
        "                               patience=20,\n",
        "                               min_delta=0.00001,\n",
        "                               mode=\"min\",\n",
        "                               restore_best_weights=True)\n",
        "rnn_model.compile(optimizer=\"adam\",\n",
        "                  loss=\"sparse_categorical_crossentropy\",\n",
        "                  metrics=[\"accuracy\"])\n",
        "history = rnn_model.fit(sequences, labels ,\n",
        "                        epochs=200,\n",
        "                        validation_split=0.2,\n",
        "                        callbacks=[early_stopping])"
      ],
      "metadata": {
        "colab": {
          "base_uri": "https://localhost:8080/",
          "height": 0
        },
        "id": "zxEeVodGFjcd",
        "outputId": "d7170c3c-7227-4319-c283-b42deabba555"
      },
      "execution_count": 73,
      "outputs": [
        {
          "output_type": "stream",
          "name": "stdout",
          "text": [
            "Epoch 1/200\n",
            "235/235 [==============================] - 22s 81ms/step - loss: 0.4392 - accuracy: 0.8508 - val_loss: 0.5253 - val_accuracy: 0.8594\n",
            "Epoch 2/200\n",
            "235/235 [==============================] - 13s 54ms/step - loss: 0.4051 - accuracy: 0.8572 - val_loss: 0.3035 - val_accuracy: 0.8940\n",
            "Epoch 3/200\n",
            "235/235 [==============================] - 11s 48ms/step - loss: 0.4083 - accuracy: 0.8593 - val_loss: 0.3095 - val_accuracy: 0.9063\n",
            "Epoch 4/200\n",
            "235/235 [==============================] - 11s 49ms/step - loss: 0.3545 - accuracy: 0.8767 - val_loss: 0.2475 - val_accuracy: 0.9452\n",
            "Epoch 5/200\n",
            "235/235 [==============================] - 11s 46ms/step - loss: 0.3752 - accuracy: 0.8646 - val_loss: 0.2762 - val_accuracy: 0.9255\n",
            "Epoch 6/200\n",
            "235/235 [==============================] - 11s 47ms/step - loss: 0.3213 - accuracy: 0.8810 - val_loss: 0.1842 - val_accuracy: 0.9547\n",
            "Epoch 7/200\n",
            "235/235 [==============================] - 11s 49ms/step - loss: 0.6002 - accuracy: 0.7576 - val_loss: 0.9524 - val_accuracy: 0.5895\n",
            "Epoch 8/200\n",
            "235/235 [==============================] - 11s 48ms/step - loss: 0.6207 - accuracy: 0.7851 - val_loss: 0.4635 - val_accuracy: 0.8813\n",
            "Epoch 9/200\n",
            "235/235 [==============================] - 11s 48ms/step - loss: 0.4221 - accuracy: 0.8581 - val_loss: 0.3874 - val_accuracy: 0.9073\n",
            "Epoch 10/200\n",
            "235/235 [==============================] - 11s 48ms/step - loss: 0.3487 - accuracy: 0.8753 - val_loss: 0.2530 - val_accuracy: 0.9143\n",
            "Epoch 11/200\n",
            "235/235 [==============================] - 11s 46ms/step - loss: 0.3296 - accuracy: 0.8793 - val_loss: 0.2335 - val_accuracy: 0.9239\n",
            "Epoch 12/200\n",
            "235/235 [==============================] - 11s 46ms/step - loss: 0.3203 - accuracy: 0.8802 - val_loss: 0.4997 - val_accuracy: 0.8616\n",
            "Epoch 13/200\n",
            "235/235 [==============================] - 10s 44ms/step - loss: 0.3558 - accuracy: 0.8729 - val_loss: 0.2336 - val_accuracy: 0.9297\n",
            "Epoch 14/200\n",
            "235/235 [==============================] - 11s 46ms/step - loss: 0.3032 - accuracy: 0.8891 - val_loss: 0.2344 - val_accuracy: 0.9404\n",
            "Epoch 15/200\n",
            "235/235 [==============================] - 11s 46ms/step - loss: 0.3146 - accuracy: 0.8868 - val_loss: 0.1862 - val_accuracy: 0.9702\n",
            "Epoch 16/200\n",
            "235/235 [==============================] - 11s 46ms/step - loss: 0.2893 - accuracy: 0.8924 - val_loss: 0.8989 - val_accuracy: 0.7998\n",
            "Epoch 17/200\n",
            "235/235 [==============================] - 11s 45ms/step - loss: 0.3523 - accuracy: 0.8767 - val_loss: 3.2518 - val_accuracy: 0.1693\n",
            "Epoch 18/200\n",
            "235/235 [==============================] - 11s 46ms/step - loss: 0.6715 - accuracy: 0.7387 - val_loss: 1.2006 - val_accuracy: 0.4792\n",
            "Epoch 19/200\n",
            "235/235 [==============================] - 11s 46ms/step - loss: 0.4121 - accuracy: 0.8593 - val_loss: 0.2872 - val_accuracy: 0.9308\n",
            "Epoch 20/200\n",
            "235/235 [==============================] - 11s 46ms/step - loss: 0.3769 - accuracy: 0.8620 - val_loss: 0.2640 - val_accuracy: 0.9361\n",
            "Epoch 21/200\n",
            "235/235 [==============================] - 11s 46ms/step - loss: 0.3325 - accuracy: 0.8775 - val_loss: 0.2964 - val_accuracy: 0.9286\n",
            "Epoch 22/200\n",
            "235/235 [==============================] - 10s 41ms/step - loss: 0.3363 - accuracy: 0.8793 - val_loss: 0.2164 - val_accuracy: 0.9531\n",
            "Epoch 23/200\n",
            "235/235 [==============================] - 11s 46ms/step - loss: 0.3048 - accuracy: 0.8845 - val_loss: 0.2339 - val_accuracy: 0.9382\n",
            "Epoch 24/200\n",
            "235/235 [==============================] - 11s 46ms/step - loss: 0.2887 - accuracy: 0.8891 - val_loss: 0.3049 - val_accuracy: 0.9089\n",
            "Epoch 25/200\n",
            "235/235 [==============================] - 11s 46ms/step - loss: 0.2880 - accuracy: 0.8863 - val_loss: 0.2071 - val_accuracy: 0.9377\n",
            "Epoch 26/200\n",
            "235/235 [==============================] - 11s 45ms/step - loss: 0.3124 - accuracy: 0.8842 - val_loss: 0.2467 - val_accuracy: 0.9441\n",
            "Epoch 27/200\n",
            "235/235 [==============================] - 11s 45ms/step - loss: 0.2741 - accuracy: 0.8887 - val_loss: 0.2135 - val_accuracy: 0.9398\n",
            "Epoch 28/200\n",
            "235/235 [==============================] - 11s 46ms/step - loss: 0.2849 - accuracy: 0.8853 - val_loss: 0.2112 - val_accuracy: 0.9617\n",
            "Epoch 29/200\n",
            "235/235 [==============================] - 11s 48ms/step - loss: 0.2909 - accuracy: 0.8866 - val_loss: 0.3472 - val_accuracy: 0.8983\n",
            "Epoch 30/200\n",
            "235/235 [==============================] - 11s 45ms/step - loss: 0.3156 - accuracy: 0.8751 - val_loss: 0.2918 - val_accuracy: 0.9382\n",
            "Epoch 31/200\n",
            "235/235 [==============================] - 11s 47ms/step - loss: 0.2683 - accuracy: 0.8934 - val_loss: 0.1787 - val_accuracy: 0.9499\n",
            "Epoch 32/200\n",
            "235/235 [==============================] - 11s 45ms/step - loss: 0.6412 - accuracy: 0.7347 - val_loss: 0.6301 - val_accuracy: 0.8536\n",
            "Epoch 33/200\n",
            "235/235 [==============================] - 11s 47ms/step - loss: 0.7849 - accuracy: 0.6713 - val_loss: 0.4964 - val_accuracy: 0.8903\n",
            "Epoch 34/200\n",
            "235/235 [==============================] - 11s 45ms/step - loss: 0.3998 - accuracy: 0.8494 - val_loss: 0.2205 - val_accuracy: 0.9409\n",
            "Epoch 35/200\n",
            "235/235 [==============================] - 11s 47ms/step - loss: 0.2965 - accuracy: 0.8845 - val_loss: 0.1983 - val_accuracy: 0.9526\n",
            "Epoch 36/200\n",
            "235/235 [==============================] - 11s 47ms/step - loss: 0.2529 - accuracy: 0.8974 - val_loss: 0.1461 - val_accuracy: 0.9574\n",
            "Epoch 37/200\n",
            "235/235 [==============================] - 11s 47ms/step - loss: 0.2536 - accuracy: 0.8971 - val_loss: 0.1300 - val_accuracy: 0.9723\n"
          ]
        }
      ]
    },
    {
      "cell_type": "code",
      "source": [
        "plt.style.use(\"bmh\")\n",
        "plt.plot(history.history[\"accuracy\"], label=\"Training Accuracy\")\n",
        "plt.plot(history.history[\"val_accuracy\"], label=\"Validation Accuracy\")\n",
        "plt.xlabel(\"epochs\")\n",
        "plt.ylabel(\"accuracy\")\n",
        "plt.legend(loc=\"lower right\")\n",
        "plt.ylim(0.00, 1.00)"
      ],
      "metadata": {
        "colab": {
          "base_uri": "https://localhost:8080/",
          "height": 479
        },
        "id": "-LXRs8HoKuhL",
        "outputId": "ce619695-e95b-4392-cd4a-46348e37a8af"
      },
      "execution_count": 74,
      "outputs": [
        {
          "output_type": "execute_result",
          "data": {
            "text/plain": [
              "(0.0, 1.0)"
            ]
          },
          "metadata": {},
          "execution_count": 74
        },
        {
          "output_type": "display_data",
          "data": {
            "text/plain": [
              "<Figure size 640x480 with 1 Axes>"
            ],
            "image/png": "[encoded data removed]"
          },
          "metadata": {}
        }
      ]
    }
  ]
}